{
 "cells": [
  {
   "cell_type": "markdown",
   "metadata": {},
   "source": [
    "# Examples "
   ]
  },
  {
   "cell_type": "markdown",
   "metadata": {},
   "source": [
    "The most basic functionality of mesa_inlist_manager is to change inlist files:"
   ]
  },
  {
   "cell_type": "code",
   "execution_count": null,
   "metadata": {},
   "outputs": [],
   "source": [
    "import mesa_inlist_manager as mim\n",
    "mim.Inlist('inlist_evolve').set_option('max_age', 1e6)"
   ]
  },
  {
   "cell_type": "markdown",
   "metadata": {},
   "source": [
    "Often, you don't want to change the inlist file forever, but just for a single run. In this case, you can use the `with` statement:"
   ]
  },
  {
   "cell_type": "code",
   "execution_count": null,
   "metadata": {},
   "outputs": [],
   "source": [
    "import mesa_inlist_manager as mim\n",
    "import os\n",
    "\n",
    "# after exiting the with block, the inlist is automatically restored\n",
    "with mim.Inlist('inlist_evolve') as inlist:\n",
    "    inlist.set_option('max_age', 1e6)\n",
    "    os.system('./rn')"
   ]
  }
 ],
 "metadata": {
  "language_info": {
   "name": "python"
  }
 },
 "nbformat": 4,
 "nbformat_minor": 2
}
