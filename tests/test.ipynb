{
 "cells": [
  {
   "cell_type": "code",
   "execution_count": 1,
   "metadata": {},
   "outputs": [],
   "source": [
    "import sys\n",
    "import os\n",
    "import matplotlib.pyplot as plt\n",
    "import numpy as np\n",
    "import pandas as pd\n",
    "\n",
    "# Verwenden Sie os.getcwd() anstelle von __file__\n",
    "notebook_dir = os.getcwd()\n",
    "parent_dir = os.path.abspath(os.path.join(notebook_dir, \"..\"))\n",
    "\n",
    "# Fügen Sie das übergeordnete Verzeichnis zum sys.path hinzu\n",
    "sys.path.insert(0, parent_dir)\n",
    "\n",
    "# Import mesa_helper.Inlist\n",
    "from mesa_helper.Inlist import Inlist\n",
    "from mesa_helper.Simulation import Simulation\n",
    "from mesa_helper.SimulationSeries import SimulationSeries\n",
    "from mesa_helper.utils import *"
   ]
  }
 ],
 "metadata": {
  "kernelspec": {
   "display_name": "base",
   "language": "python",
   "name": "python3"
  },
  "language_info": {
   "codemirror_mode": {
    "name": "ipython",
    "version": 3
   },
   "file_extension": ".py",
   "mimetype": "text/x-python",
   "name": "python",
   "nbconvert_exporter": "python",
   "pygments_lexer": "ipython3",
   "version": "3.11.7"
  }
 },
 "nbformat": 4,
 "nbformat_minor": 2
}
