{
 "cells": [
  {
   "cell_type": "code",
   "execution_count": 1,
   "metadata": {},
   "outputs": [],
   "source": [
    "import sys\n",
    "import os\n",
    "import matplotlib.pyplot as plt\n",
    "import numpy as np\n",
    "import pandas as pd\n",
    "\n",
    "# Verwenden Sie os.getcwd() anstelle von __file__\n",
    "notebook_dir = os.getcwd()\n",
    "parent_dir = os.path.abspath(os.path.join(notebook_dir, \"..\"))\n",
    "\n",
    "# Fügen Sie das übergeordnete Verzeichnis zum sys.path hinzu\n",
    "sys.path.insert(0, parent_dir)"
   ]
  },
  {
   "cell_type": "code",
   "execution_count": 2,
   "metadata": {},
   "outputs": [],
   "source": [
    "from mesa_helper import SimulationSeries, Simulation\n",
    "series = SimulationSeries(series_dir = \"LOGS\", verbose = True)"
   ]
  },
  {
   "cell_type": "code",
   "execution_count": 3,
   "metadata": {},
   "outputs": [
    {
     "name": "stdout",
     "output_type": "stream",
     "text": [
      "history_keys =  ['star_age']\n",
      "dfs =  [         log_dir      star_age\n",
      "0  test_planet_1  5.000000e+09,          log_dir  star_age\n",
      "0  test_planet_2    1000.0]\n"
     ]
    },
    {
     "data": {
      "text/html": [
       "<div>\n",
       "<style scoped>\n",
       "    .dataframe tbody tr th:only-of-type {\n",
       "        vertical-align: middle;\n",
       "    }\n",
       "\n",
       "    .dataframe tbody tr th {\n",
       "        vertical-align: top;\n",
       "    }\n",
       "\n",
       "    .dataframe thead th {\n",
       "        text-align: right;\n",
       "    }\n",
       "</style>\n",
       "<table border=\"1\" class=\"dataframe\">\n",
       "  <thead>\n",
       "    <tr style=\"text-align: right;\">\n",
       "      <th></th>\n",
       "      <th>log_dir</th>\n",
       "      <th>star_age</th>\n",
       "    </tr>\n",
       "  </thead>\n",
       "  <tbody>\n",
       "    <tr>\n",
       "      <th>0</th>\n",
       "      <td>test_planet_1</td>\n",
       "      <td>5.000000e+09</td>\n",
       "    </tr>\n",
       "    <tr>\n",
       "      <th>1</th>\n",
       "      <td>test_planet_2</td>\n",
       "      <td>1.000000e+03</td>\n",
       "    </tr>\n",
       "  </tbody>\n",
       "</table>\n",
       "</div>"
      ],
      "text/plain": [
       "         log_dir      star_age\n",
       "0  test_planet_1  5.000000e+09\n",
       "1  test_planet_2  1.000000e+03"
      ]
     },
     "execution_count": 3,
     "metadata": {},
     "output_type": "execute_result"
    }
   ],
   "source": [
    "series.add_history_data(\"star_age\")\n",
    "series.results"
   ]
  },
  {
   "cell_type": "code",
   "execution_count": 4,
   "metadata": {},
   "outputs": [
    {
     "name": "stdout",
     "output_type": "stream",
     "text": [
      "history_keys =  ['star_mass', 'Teff']\n",
      "dfs =  [         log_dir  star_mass\n",
      "0  test_planet_1   0.000955,          log_dir  star_mass\n",
      "0  test_planet_2   0.000955]\n",
      "dfs =  [         log_dir        Teff\n",
      "0  test_planet_1  132.963334,          log_dir         Teff\n",
      "0  test_planet_2  1272.891671]\n"
     ]
    },
    {
     "data": {
      "text/html": [
       "<div>\n",
       "<style scoped>\n",
       "    .dataframe tbody tr th:only-of-type {\n",
       "        vertical-align: middle;\n",
       "    }\n",
       "\n",
       "    .dataframe tbody tr th {\n",
       "        vertical-align: top;\n",
       "    }\n",
       "\n",
       "    .dataframe thead th {\n",
       "        text-align: right;\n",
       "    }\n",
       "</style>\n",
       "<table border=\"1\" class=\"dataframe\">\n",
       "  <thead>\n",
       "    <tr style=\"text-align: right;\">\n",
       "      <th></th>\n",
       "      <th>log_dir</th>\n",
       "      <th>star_age</th>\n",
       "      <th>star_mass</th>\n",
       "      <th>Teff</th>\n",
       "    </tr>\n",
       "  </thead>\n",
       "  <tbody>\n",
       "    <tr>\n",
       "      <th>0</th>\n",
       "      <td>test_planet_1</td>\n",
       "      <td>5.000000e+09</td>\n",
       "      <td>0.000955</td>\n",
       "      <td>132.963334</td>\n",
       "    </tr>\n",
       "    <tr>\n",
       "      <th>1</th>\n",
       "      <td>test_planet_2</td>\n",
       "      <td>1.000000e+03</td>\n",
       "      <td>0.000955</td>\n",
       "      <td>1272.891671</td>\n",
       "    </tr>\n",
       "  </tbody>\n",
       "</table>\n",
       "</div>"
      ],
      "text/plain": [
       "         log_dir      star_age  star_mass         Teff\n",
       "0  test_planet_1  5.000000e+09   0.000955   132.963334\n",
       "1  test_planet_2  1.000000e+03   0.000955  1272.891671"
      ]
     },
     "execution_count": 4,
     "metadata": {},
     "output_type": "execute_result"
    }
   ],
   "source": [
    "series.add_history_data([\"star_age\", \"star_mass\", \"Teff\"])\n",
    "series.results"
   ]
  },
  {
   "cell_type": "code",
   "execution_count": 5,
   "metadata": {},
   "outputs": [
    {
     "ename": "NotImplementedError",
     "evalue": "The method 'get_profile_data' is currently only supported for one simulation or a suite of simulations where the log_dir is specified.",
     "output_type": "error",
     "traceback": [
      "\u001b[0;31m---------------------------------------------------------------------------\u001b[0m",
      "\u001b[0;31mNotImplementedError\u001b[0m                       Traceback (most recent call last)",
      "Cell \u001b[0;32mIn[5], line 1\u001b[0m\n\u001b[0;32m----> 1\u001b[0m series\u001b[38;5;241m.\u001b[39madd_profile_data_at_condition(\n\u001b[1;32m      2\u001b[0m         \u001b[38;5;124m'\u001b[39m\u001b[38;5;124mentropy\u001b[39m\u001b[38;5;124m'\u001b[39m,\n\u001b[1;32m      3\u001b[0m         \u001b[38;5;124m'\u001b[39m\u001b[38;5;124mmass_Jup\u001b[39m\u001b[38;5;124m'\u001b[39m,\n\u001b[1;32m      4\u001b[0m         \u001b[38;5;241m0.05\u001b[39m\n\u001b[1;32m      5\u001b[0m     )\n",
      "File \u001b[0;32m~/py_mesa_helper/mesa_helper/SimulationSeries.py:402\u001b[0m, in \u001b[0;36mSimulationSeries.add_profile_data_at_condition\u001b[0;34m(self, quantity, condition, value, profile_number, name)\u001b[0m\n\u001b[1;32m    399\u001b[0m \u001b[38;5;28;01mif\u001b[39;00m name \u001b[38;5;129;01mis\u001b[39;00m \u001b[38;5;28;01mNone\u001b[39;00m:\n\u001b[1;32m    400\u001b[0m     name \u001b[38;5;241m=\u001b[39m \u001b[38;5;124mf\u001b[39m\u001b[38;5;124m\"\u001b[39m\u001b[38;5;124mfirst_\u001b[39m\u001b[38;5;132;01m{\u001b[39;00mquantity\u001b[38;5;132;01m}\u001b[39;00m\u001b[38;5;124m_at_\u001b[39m\u001b[38;5;132;01m{\u001b[39;00mcondition\u001b[38;5;132;01m}\u001b[39;00m\u001b[38;5;124m_\u001b[39m\u001b[38;5;132;01m{\u001b[39;00mvalue\u001b[38;5;132;01m}\u001b[39;00m\u001b[38;5;124m\"\u001b[39m\n\u001b[0;32m--> 402\u001b[0m out \u001b[38;5;241m=\u001b[39m [\n\u001b[1;32m    403\u001b[0m     \u001b[38;5;28mself\u001b[39m\u001b[38;5;241m.\u001b[39mget_profile_data_at_condition(\n\u001b[1;32m    404\u001b[0m         quantity, condition, value, profile_number, log_dir\n\u001b[1;32m    405\u001b[0m     )\n\u001b[1;32m    406\u001b[0m     \u001b[38;5;28;01mfor\u001b[39;00m log_dir \u001b[38;5;129;01min\u001b[39;00m \u001b[38;5;28mself\u001b[39m\u001b[38;5;241m.\u001b[39mresults[\u001b[38;5;124m\"\u001b[39m\u001b[38;5;124mlog_dir\u001b[39m\u001b[38;5;124m\"\u001b[39m]\n\u001b[1;32m    407\u001b[0m ]\n\u001b[1;32m    408\u001b[0m \u001b[38;5;28mself\u001b[39m\u001b[38;5;241m.\u001b[39mresults[name] \u001b[38;5;241m=\u001b[39m out\n",
      "File \u001b[0;32m~/py_mesa_helper/mesa_helper/SimulationSeries.py:403\u001b[0m, in \u001b[0;36m<listcomp>\u001b[0;34m(.0)\u001b[0m\n\u001b[1;32m    399\u001b[0m \u001b[38;5;28;01mif\u001b[39;00m name \u001b[38;5;129;01mis\u001b[39;00m \u001b[38;5;28;01mNone\u001b[39;00m:\n\u001b[1;32m    400\u001b[0m     name \u001b[38;5;241m=\u001b[39m \u001b[38;5;124mf\u001b[39m\u001b[38;5;124m\"\u001b[39m\u001b[38;5;124mfirst_\u001b[39m\u001b[38;5;132;01m{\u001b[39;00mquantity\u001b[38;5;132;01m}\u001b[39;00m\u001b[38;5;124m_at_\u001b[39m\u001b[38;5;132;01m{\u001b[39;00mcondition\u001b[38;5;132;01m}\u001b[39;00m\u001b[38;5;124m_\u001b[39m\u001b[38;5;132;01m{\u001b[39;00mvalue\u001b[38;5;132;01m}\u001b[39;00m\u001b[38;5;124m\"\u001b[39m\n\u001b[1;32m    402\u001b[0m out \u001b[38;5;241m=\u001b[39m [\n\u001b[0;32m--> 403\u001b[0m     \u001b[38;5;28mself\u001b[39m\u001b[38;5;241m.\u001b[39mget_profile_data_at_condition(\n\u001b[1;32m    404\u001b[0m         quantity, condition, value, profile_number, log_dir\n\u001b[1;32m    405\u001b[0m     )\n\u001b[1;32m    406\u001b[0m     \u001b[38;5;28;01mfor\u001b[39;00m log_dir \u001b[38;5;129;01min\u001b[39;00m \u001b[38;5;28mself\u001b[39m\u001b[38;5;241m.\u001b[39mresults[\u001b[38;5;124m\"\u001b[39m\u001b[38;5;124mlog_dir\u001b[39m\u001b[38;5;124m\"\u001b[39m]\n\u001b[1;32m    407\u001b[0m ]\n\u001b[1;32m    408\u001b[0m \u001b[38;5;28mself\u001b[39m\u001b[38;5;241m.\u001b[39mresults[name] \u001b[38;5;241m=\u001b[39m out\n",
      "File \u001b[0;32m~/py_mesa_helper/mesa_helper/SimulationSeries.py:357\u001b[0m, in \u001b[0;36mSimulationSeries.get_profile_data_at_condition\u001b[0;34m(self, quantity, condition, value, profile_number, log_dir, **kwargs)\u001b[0m\n\u001b[1;32m    354\u001b[0m \u001b[38;5;28;01mif\u001b[39;00m \u001b[38;5;28misinstance\u001b[39m(value, (\u001b[38;5;28mbool\u001b[39m, \u001b[38;5;28mstr\u001b[39m)):\n\u001b[1;32m    355\u001b[0m     \u001b[38;5;28;01mraise\u001b[39;00m \u001b[38;5;167;01mValueError\u001b[39;00m(\u001b[38;5;124m\"\u001b[39m\u001b[38;5;124mvalue must be a float or an integer.\u001b[39m\u001b[38;5;124m\"\u001b[39m)\n\u001b[0;32m--> 357\u001b[0m condition_data \u001b[38;5;241m=\u001b[39m \u001b[38;5;28mself\u001b[39m\u001b[38;5;241m.\u001b[39mget_profile_data(\n\u001b[1;32m    358\u001b[0m     condition, profile_number, log_dir, \u001b[38;5;241m*\u001b[39m\u001b[38;5;241m*\u001b[39mkwargs\n\u001b[1;32m    359\u001b[0m )\n\u001b[1;32m    360\u001b[0m index \u001b[38;5;241m=\u001b[39m np\u001b[38;5;241m.\u001b[39margmin(np\u001b[38;5;241m.\u001b[39mabs(condition_data \u001b[38;5;241m-\u001b[39m value))\n\u001b[1;32m    361\u001b[0m \u001b[38;5;28;01mreturn\u001b[39;00m \u001b[38;5;28mself\u001b[39m\u001b[38;5;241m.\u001b[39mget_profile_data(quantity, profile_number, log_dir, \u001b[38;5;241m*\u001b[39m\u001b[38;5;241m*\u001b[39mkwargs)[index]\n",
      "File \u001b[0;32m~/py_mesa_helper/mesa_helper/SimulationSeries.py:318\u001b[0m, in \u001b[0;36mSimulationSeries.get_profile_data\u001b[0;34m(self, quantity, profile_number, log_dir, **kwargs)\u001b[0m\n\u001b[1;32m    311\u001b[0m         \u001b[38;5;28;01mreturn\u001b[39;00m (\n\u001b[1;32m    312\u001b[0m             \u001b[38;5;28mself\u001b[39m\u001b[38;5;241m.\u001b[39mlogs[log_dir]\n\u001b[1;32m    313\u001b[0m             \u001b[38;5;241m.\u001b[39mprofile_data(profile_number\u001b[38;5;241m=\u001b[39mprofile_number, \u001b[38;5;241m*\u001b[39m\u001b[38;5;241m*\u001b[39mkwargs)\n\u001b[1;32m    314\u001b[0m             \u001b[38;5;241m.\u001b[39mdata(quantity)\n\u001b[1;32m    315\u001b[0m         )\n\u001b[1;32m    317\u001b[0m \u001b[38;5;28;01melse\u001b[39;00m:\n\u001b[0;32m--> 318\u001b[0m     \u001b[38;5;28;01mraise\u001b[39;00m \u001b[38;5;167;01mNotImplementedError\u001b[39;00m(\n\u001b[1;32m    319\u001b[0m         \u001b[38;5;124m\"\u001b[39m\u001b[38;5;124mThe method \u001b[39m\u001b[38;5;124m'\u001b[39m\u001b[38;5;124mget_profile_data\u001b[39m\u001b[38;5;124m'\u001b[39m\u001b[38;5;124m is currently only supported for one simulation or a suite of simulations where the log_dir is specified.\u001b[39m\u001b[38;5;124m\"\u001b[39m\n\u001b[1;32m    320\u001b[0m     )\n",
      "\u001b[0;31mNotImplementedError\u001b[0m: The method 'get_profile_data' is currently only supported for one simulation or a suite of simulations where the log_dir is specified."
     ]
    }
   ],
   "source": [
    "series.add_profile_data_at_condition(\n",
    "        'entropy',\n",
    "        'mass_Jup',\n",
    "        0.05\n",
    "    )"
   ]
  },
  {
   "cell_type": "code",
   "execution_count": null,
   "metadata": {},
   "outputs": [],
   "source": []
  }
 ],
 "metadata": {
  "kernelspec": {
   "display_name": "base",
   "language": "python",
   "name": "python3"
  },
  "language_info": {
   "codemirror_mode": {
    "name": "ipython",
    "version": 3
   },
   "file_extension": ".py",
   "mimetype": "text/x-python",
   "name": "python",
   "nbconvert_exporter": "python",
   "pygments_lexer": "ipython3",
   "version": "3.11.7"
  }
 },
 "nbformat": 4,
 "nbformat_minor": 2
}
