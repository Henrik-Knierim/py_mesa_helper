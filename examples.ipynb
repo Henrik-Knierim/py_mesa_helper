{
 "cells": [
  {
   "cell_type": "markdown",
   "metadata": {},
   "source": [
    "# Quickstart"
   ]
  },
  {
   "cell_type": "markdown",
   "metadata": {},
   "source": [
    "These are just a few examples to get you started. Most functions have more advanced options and features that you can find in the docstrings. Soon, there will be a more detailed documentation."
   ]
  },
  {
   "cell_type": "markdown",
   "metadata": {},
   "source": [
    "## `Inlist`"
   ]
  },
  {
   "cell_type": "markdown",
   "metadata": {},
   "source": [
    "__Note__: All the code that follows assumes that the files exist in the same directory as the notebook. If they don't exist, an error will be produced."
   ]
  },
  {
   "cell_type": "markdown",
   "metadata": {},
   "source": [
    "The most basic functionality of the `mesa_helper.Inlist` class is to change namelists:"
   ]
  },
  {
   "cell_type": "code",
   "execution_count": null,
   "metadata": {},
   "outputs": [],
   "source": [
    "import mesa_helper as mh\n",
    "mh.Inlist('inlist_evolve').set_option('max_age', 1e6)"
   ]
  },
  {
   "cell_type": "markdown",
   "metadata": {},
   "source": [
    "Often, you don't want to change the inlist file forever, but just for a single run. In this case, you can use the `with` statement:"
   ]
  },
  {
   "cell_type": "code",
   "execution_count": null,
   "metadata": {},
   "outputs": [],
   "source": [
    "import mesa_helper as mh\n",
    "rn = mh.Rn('rn_evolve')\n",
    "\n",
    "# after exiting the with block, the inlist is automatically restored\n",
    "with mh.Inlist('inlist_evolve') as inlist:\n",
    "    inlist.set_option('max_age', 1e6)\n",
    "    rn.run()"
   ]
  },
  {
   "cell_type": "markdown",
   "metadata": {},
   "source": [
    "You can also set multiple options at once:"
   ]
  },
  {
   "cell_type": "code",
   "execution_count": null,
   "metadata": {},
   "outputs": [],
   "source": [
    "import mesa_helper as mh\n",
    "rn = mh.Rn('rn_evolve')\n",
    "\n",
    "with mh.Inlist('inlist_evolve') as inlist:\n",
    "    inlist.set_multiple_options(max_age = 1e6, mesh_delta_coeff = 0.25, max_model_number = 500)\n",
    "    rn.run()"
   ]
  },
  {
   "cell_type": "markdown",
   "metadata": {},
   "source": [
    "Some commen tasks like setting the initial mass in units of Jupiter masses are also supported:"
   ]
  },
  {
   "cell_type": "code",
   "execution_count": null,
   "metadata": {},
   "outputs": [],
   "source": [
    "import mesa_helper as mh\n",
    "inlist = mh.Inlist('inlist_create')\n",
    "inlist.set_initial_mass_in_M_Jup(1.0)\n",
    "inlist.set_initial_radius_in_R_Jup(2.5)"
   ]
  },
  {
   "cell_type": "markdown",
   "metadata": {},
   "source": [
    "There is also a specialized method for setting the output path of the MESA simulation:"
   ]
  },
  {
   "cell_type": "code",
   "execution_count": null,
   "metadata": {},
   "outputs": [],
   "source": [
    "import mesa_helper as mh\n",
    "inlist = mh.Inlist('inlist_evolve')\n",
    "inlist.set_logs_path(logs_style = 'M_p', M_p = 1.0)\n",
    "# sets the path to \"./LOGS/M_p_1.0\"\n",
    "# for more examples, see the `create_logs_path` function"
   ]
  },
  {
   "cell_type": "markdown",
   "metadata": {},
   "source": [
    "You can also create files for the `relax_initial_entropy` functionality."
   ]
  },
  {
   "cell_type": "code",
   "execution_count": null,
   "metadata": {},
   "outputs": [],
   "source": [
    "import mesa_helper as mh\n",
    "s_of_m_kerg = lambda m: 7.0 * (1-m) + 10.0 * m\n",
    "\n",
    "mh.Inlist.create_relax_entropy_file(\n",
    "        s_of_m_kerg,\n",
    "        relax_entropy_filename = \"relax_entropy_file.dat\",\n",
    "        n_points = 1000\n",
    ")"
   ]
  },
  {
   "cell_type": "markdown",
   "metadata": {},
   "source": [
    "## `CompositonGradient`"
   ]
  },
  {
   "cell_type": "markdown",
   "metadata": {},
   "source": [
    "This class helps creating compotion gradient files for MESA. A straight forward example is:"
   ]
  },
  {
   "cell_type": "code",
   "execution_count": null,
   "metadata": {},
   "outputs": [],
   "source": [
    "from mesa_helper import CompositionGradient\n",
    "# create a 1 M_Jup model with a composition gradient in the heavy-element mass fraction\n",
    "# Note: the gradient is relative to the mass specified when initializing the CompositionGradient object\n",
    "# So, this could also be 1 M_Earth, 1 M_Sun, etc.\n",
    "comp_grad = CompositionGradient(M_p = 1.0, gradient = 'Z')\n",
    "\n",
    "# a hypothetical linear gradient in the heavy-element mass fraction\n",
    "comp_grad.abu_profile = lambda m: 1.0 * (1-m) + 0.02 * m\n",
    "\n",
    "# create the relax composition file\n",
    "comp_grad.create_relax_inital_composition_file(relax_composition_filename = \"relax_composition_file.dat\")"
   ]
  },
  {
   "cell_type": "markdown",
   "metadata": {},
   "source": [
    "There are many predefined gradients that can be used. You find them under the \"Composition Gradients\" comment in the `composition_gradient.py` file."
   ]
  },
  {
   "cell_type": "markdown",
   "metadata": {},
   "source": [
    "## `Simulation` and `SimulationSeries`"
   ]
  },
  {
   "cell_type": "markdown",
   "metadata": {},
   "source": [
    "This class is for analyzing MESA simulations. It contains many functions to extract data from a single mesa simulation."
   ]
  },
  {
   "cell_type": "markdown",
   "metadata": {},
   "source": [
    "For example, you can plot the entropy as a function of mass:"
   ]
  },
  {
   "cell_type": "code",
   "execution_count": null,
   "metadata": {},
   "outputs": [],
   "source": [
    "from mesa_helper import Simulation\n",
    "sim = Simulation(parent_dir = \"./LOGS\", simulation_dir = \"Jupiter_model\")\n",
    "\n",
    "sim.profile_plot('mass', 'entropy')"
   ]
  },
  {
   "cell_type": "markdown",
   "metadata": {},
   "source": [
    "You can also plot data from the history file:"
   ]
  },
  {
   "cell_type": "code",
   "execution_count": null,
   "metadata": {},
   "outputs": [],
   "source": [
    "sim.history_plot('log_star_age', 'Teff')"
   ]
  },
  {
   "cell_type": "markdown",
   "metadata": {},
   "source": [
    "However, there are also more advanced uses like plotting the average temperature in the outer 10% of the object as a function of time:"
   ]
  },
  {
   "cell_type": "code",
   "execution_count": null,
   "metadata": {},
   "outputs": [],
   "source": [
    "sim.mean_profile_sequence_plot('log_star_age', 'T', q0 = 0.9, q1 = 1.0)"
   ]
  },
  {
   "cell_type": "markdown",
   "metadata": {},
   "source": [
    "Or, you could compare the relative difference in density between two models:"
   ]
  },
  {
   "cell_type": "code",
   "execution_count": null,
   "metadata": {},
   "outputs": [],
   "source": [
    "sim.relative_difference_of_two_profiles_plot(\n",
    "        'mass',\n",
    "        'Rho',\n",
    "        profile_number_reference = 1,\n",
    "        profile_number_compare = -1\n",
    "    )"
   ]
  },
  {
   "cell_type": "markdown",
   "metadata": {},
   "source": [
    "There are many more functions and also a class called `SimulationSeries` for analyzing multiple simulations at once. For example, you could plot the final heavy-element mass profile of multiple simulations like so:"
   ]
  },
  {
   "cell_type": "code",
   "execution_count": null,
   "metadata": {},
   "outputs": [],
   "source": [
    "from mesa_helper import SimulationSeries\n",
    "# suppose your folder structure is as follows:\n",
    "# ./LOGS/\n",
    "#     sim_1\n",
    "#     sim_2\n",
    "#     ...\n",
    "#     sim_n\n",
    "\n",
    "sim_series = SimulationSeries(series_dir = './LOGS')\n",
    "sim_series.profile_plot('mass', 'z', profile_number = -1)"
   ]
  },
  {
   "cell_type": "markdown",
   "metadata": {},
   "source": [
    "`SimulationSeries` has most of the same functions as `Simulation`, but they are applied to all simulations in the series."
   ]
  }
 ],
 "metadata": {
  "kernelspec": {
   "display_name": "base",
   "language": "python",
   "name": "python3"
  },
  "language_info": {
   "codemirror_mode": {
    "name": "ipython",
    "version": 3
   },
   "file_extension": ".py",
   "mimetype": "text/x-python",
   "name": "python",
   "nbconvert_exporter": "python",
   "pygments_lexer": "ipython3",
   "version": "3.11.7"
  }
 },
 "nbformat": 4,
 "nbformat_minor": 2
}
